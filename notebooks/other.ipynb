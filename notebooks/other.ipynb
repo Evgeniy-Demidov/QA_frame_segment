{
 "cells": [
  {
   "cell_type": "code",
   "execution_count": null,
   "metadata": {},
   "outputs": [],
   "source": [
    "import requests\n",
    "import json\n",
    "\n",
    "base_path = 'https://hdm.road.ly'\n",
    "cookies = {\n",
    "    \"session\": \"8030fd41b0aa11d82fd915a242e6a9a30ca9c781598a8a41f98ebd1e1aa9d91814fd34ee01d15f13e00c2879b8cbe7fbed21ffc8783aaba11f16cb0be0f2930fb9a2770a12ee866eb9b9aaba55186dc9eb97340d94d4ff92cc54fed4f660566e5fce2248efdf458484107793e4ddf7e8187374f7670513a13c03d641b34a547b\"\n",
    "}\n",
    "\n",
    "# Assuming test_geometry is a dictionary of query parameters\n",
    "response = requests.get(\n",
    "    f\"{base_path}/pci-api/v1/feature/pipeline/uvp/616af95b-2414-42c8-be47-152725a3abe9?only_ids=0\",\n",
    "    params='test_geometry',\n",
    "    cookies=cookies,\n",
    ")\n",
    "print(response.status_code)\n",
    "\n",
    "pipeline_frame_segments = response.json()\n",
    "pipeline_coords = set()\n",
    "for frame_segment in pipeline_frame_segments:\n",
    "    pipeline_coords.add(tuple(frame_segment['viewpoint']['geometry']['coordinates']))"
   ]
  },
  {
   "cell_type": "code",
   "execution_count": null,
   "metadata": {},
   "outputs": [],
   "source": [
    "map_image_viewpoint = []\n",
    "for frame in pipeline_frame_segments:\n",
    "    map_image_viewpoint.append({'frame_segment_id': frame['viewpoint']['properties']['id'], 'stats': frame['viewpoint']['properties']['stats'],\n",
    "                                'image': frame['images']['front']})"
   ]
  }
 ],
 "metadata": {
  "language_info": {
   "name": "python"
  }
 },
 "nbformat": 4,
 "nbformat_minor": 2
}
